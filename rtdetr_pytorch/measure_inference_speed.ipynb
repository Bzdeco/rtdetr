{
 "cells": [
  {
   "cell_type": "code",
   "execution_count": 1,
   "outputs": [],
   "source": [
    "import torch"
   ],
   "metadata": {
    "collapsed": false,
    "ExecuteTime": {
     "end_time": "2024-04-26T15:53:11.530041Z",
     "start_time": "2024-04-26T15:53:06.347601Z"
    }
   }
  },
  {
   "cell_type": "code",
   "execution_count": 2,
   "outputs": [
    {
     "name": "stdout",
     "output_type": "stream",
     "text": [
      "Load PResNet18 state_dict\n"
     ]
    }
   ],
   "source": [
    "from tools.train import rt_detr_config\n",
    "\n",
    "device = torch.device(\"cuda\")\n",
    "model = rt_detr_config().model"
   ],
   "metadata": {
    "collapsed": false,
    "ExecuteTime": {
     "end_time": "2024-04-26T15:53:42.438986Z",
     "start_time": "2024-04-26T15:53:36.149288Z"
    }
   }
  },
  {
   "cell_type": "code",
   "execution_count": 11,
   "metadata": {
    "collapsed": true,
    "ExecuteTime": {
     "end_time": "2024-04-26T15:54:21.755537Z",
     "start_time": "2024-04-26T15:54:21.254930Z"
    }
   },
   "outputs": [],
   "source": [
    "from powerlines.sahi import multiscale_image_patches\n",
    "\n",
    "# Construct random test input\n",
    "original_input = torch.randn((1, 3, 3000, 4096), dtype=torch.float)\n",
    "patches = multiscale_image_patches(\n",
    "    original_input, patch_sizes=[256, 512, 1024], step_size_fraction=0.8, predict_on_full_image=True\n",
    ")\n",
    "num_patch_inputs = len(patches.patches)"
   ]
  },
  {
   "cell_type": "code",
   "execution_count": 12,
   "outputs": [
    {
     "data": {
      "text/plain": "401"
     },
     "execution_count": 12,
     "metadata": {},
     "output_type": "execute_result"
    }
   ],
   "source": [
    "batch_size = 64\n",
    "num_batches_per_frame = num_patch_inputs / batch_size\n",
    "print(f\"Num patches per frame: {num_patch_inputs}\")\n",
    "print(f\"Num batches per frame: {num_batches_per_frame:.3f}\")"
   ],
   "metadata": {
    "collapsed": false,
    "ExecuteTime": {
     "end_time": "2024-04-26T15:54:23.079586Z",
     "start_time": "2024-04-26T15:54:23.073435Z"
    }
   }
  },
  {
   "cell_type": "code",
   "execution_count": null,
   "outputs": [],
   "source": [
    "input = torch.randn((batch_size, 3, 640, 640), dtype=torch.float).to(device)\n",
    "\n",
    "# Timers\n",
    "starter, ender = torch.cuda.Event(enable_timing=True), torch.cuda.Event(enable_timing=True)\n",
    "repetitions = int(1000 * num_batches_per_frame)\n",
    "warm_up_rounds = 50\n",
    "timings = torch.zeros((repetitions, 1))"
   ],
   "metadata": {
    "collapsed": false
   }
  },
  {
   "cell_type": "code",
   "execution_count": null,
   "outputs": [],
   "source": [
    "with torch.autocast(device_type=\"cuda\", dtype=torch.float16, enabled=True):\n",
    "    # GPU warm-up\n",
    "    for _ in range(warm_up_rounds):\n",
    "        _ = model(input)\n",
    "\n",
    "    # Measure inference time\n",
    "    with torch.no_grad():\n",
    "        for rep in range(repetitions):\n",
    "            starter.record()\n",
    "            _ = model(input)\n",
    "            ender.record()\n",
    "\n",
    "            # Synchronize GPU\n",
    "            torch.cuda.synchronize()\n",
    "            elapsed_time = starter.elapsed_time(ender)\n",
    "            timings[rep] = elapsed_time"
   ],
   "metadata": {
    "collapsed": false
   }
  },
  {
   "cell_type": "code",
   "execution_count": null,
   "outputs": [],
   "source": [
    "# Compute inference time\n",
    "mean_syn = timings.mean() * num_batches_per_frame\n",
    "std_syn = timings.std()\n",
    "print(f\"Inference speed: {mean_syn:.3f} +- {std_syn:.3f}\")"
   ],
   "metadata": {
    "collapsed": false
   }
  }
 ],
 "metadata": {
  "kernelspec": {
   "display_name": "Python 3",
   "language": "python",
   "name": "python3"
  },
  "language_info": {
   "codemirror_mode": {
    "name": "ipython",
    "version": 2
   },
   "file_extension": ".py",
   "mimetype": "text/x-python",
   "name": "python",
   "nbconvert_exporter": "python",
   "pygments_lexer": "ipython2",
   "version": "2.7.6"
  }
 },
 "nbformat": 4,
 "nbformat_minor": 0
}
